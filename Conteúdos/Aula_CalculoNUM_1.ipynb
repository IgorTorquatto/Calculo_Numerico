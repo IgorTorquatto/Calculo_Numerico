{
  "nbformat": 4,
  "nbformat_minor": 0,
  "metadata": {
    "colab": {
      "provenance": []
    },
    "kernelspec": {
      "name": "python3",
      "display_name": "Python 3"
    },
    "language_info": {
      "name": "python"
    }
  },
  "cells": [
    {
      "cell_type": "code",
      "source": [
        "import math\n",
        "import numpy as np\n",
        "\n",
        "\n",
        "'''}\n",
        "Calcular método da bisseção para a função f(x) = x^2 -7 = 0  com erro de 0.01 e no intervalo\n",
        "[2,4]\n",
        "\n",
        "'''\n",
        "\n",
        "a=2\n",
        "b=4\n",
        "i=0\n",
        "\n",
        "erro=0.01\n",
        "def f(x):\n",
        "  return x**2 -7"
      ],
      "metadata": {
        "id": "iXI_5WhoXjmo"
      },
      "execution_count": 25,
      "outputs": []
    },
    {
      "cell_type": "code",
      "source": [
        "#K é o número de iterações\n",
        "k = np.log((b-a)/erro)/np.log(2)\n",
        "print(f\"k= {k}\")\n",
        "k=np.ceil(k)\n",
        "print(f\"Efetuaremos {k} iterações\")"
      ],
      "metadata": {
        "colab": {
          "base_uri": "https://localhost:8080/"
        },
        "id": "JWmDc9C6YPhw",
        "outputId": "18e2d8bf-a37b-4a6a-9080-39d797e7864e"
      },
      "execution_count": 26,
      "outputs": [
        {
          "output_type": "stream",
          "name": "stdout",
          "text": [
            "k= 7.643856189774724\n",
            "Efetuaremos 8.0 iterações\n"
          ]
        }
      ]
    },
    {
      "cell_type": "code",
      "source": [
        "while i < k :\n",
        "  m = (a+b)/2  #ponto médio\n",
        "  m= round(m,8) #arredondando para 8 casas\n",
        "  if f(a) * f(m) < 0 :\n",
        "    b=m\n",
        "  else :\n",
        "    a=m\n",
        "  print(f\"valor de x({i+1})= {m}\\n\")\n",
        "  i+=1\n",
        "print(f\"O valor aproximado da raiz é : {m}\")"
      ],
      "metadata": {
        "colab": {
          "base_uri": "https://localhost:8080/"
        },
        "id": "Am5vZ4hkZ4My",
        "outputId": "c5a83182-eccb-43cd-e33b-ad475ad487d4"
      },
      "execution_count": 27,
      "outputs": [
        {
          "output_type": "stream",
          "name": "stdout",
          "text": [
            "valor de x(1)= 3.0\n",
            "\n",
            "valor de x(2)= 2.5\n",
            "\n",
            "valor de x(3)= 2.75\n",
            "\n",
            "valor de x(4)= 2.625\n",
            "\n",
            "valor de x(5)= 2.6875\n",
            "\n",
            "valor de x(6)= 2.65625\n",
            "\n",
            "valor de x(7)= 2.640625\n",
            "\n",
            "valor de x(8)= 2.6484375\n",
            "\n",
            "O valor aproximado da raiz é : 2.6484375\n"
          ]
        }
      ]
    },
    {
      "cell_type": "code",
      "source": [],
      "metadata": {
        "id": "OEY5aHBudPS0"
      },
      "execution_count": 27,
      "outputs": []
    }
  ]
}