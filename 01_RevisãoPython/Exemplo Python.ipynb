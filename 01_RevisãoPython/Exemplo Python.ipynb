{
 "cells": [
  {
   "cell_type": "code",
   "execution_count": 2,
   "id": "b3568c1e",
   "metadata": {},
   "outputs": [
    {
     "name": "stdout",
     "output_type": "stream",
     "text": [
      "2178309\n"
     ]
    }
   ],
   "source": [
    "def fib(n):\n",
    "\n",
    "    if (n < 0) :\n",
    "        print(\"Número Inválido\")\n",
    "    \n",
    "    if (n == 0):\n",
    "        return 0\n",
    "        \n",
    "    if (n == 1):\n",
    "        return 1\n",
    "    \n",
    "    return fib(n-2) + fib(n-1)\n",
    "\n",
    "print(fib(32))\n"
   ]
  }
 ],
 "metadata": {
  "kernelspec": {
   "display_name": "Python 3 (ipykernel)",
   "language": "python",
   "name": "python3"
  },
  "language_info": {
   "codemirror_mode": {
    "name": "ipython",
    "version": 3
   },
   "file_extension": ".py",
   "mimetype": "text/x-python",
   "name": "python",
   "nbconvert_exporter": "python",
   "pygments_lexer": "ipython3",
   "version": "3.9.4"
  }
 },
 "nbformat": 4,
 "nbformat_minor": 5
}
