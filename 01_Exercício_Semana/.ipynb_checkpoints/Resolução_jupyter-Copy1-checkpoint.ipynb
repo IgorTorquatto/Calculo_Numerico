{
 "cells": [
  {
   "cell_type": "code",
   "execution_count": 2,
   "id": "1f51bc80",
   "metadata": {},
   "outputs": [
    {
     "name": "stdout",
     "output_type": "stream",
     "text": [
      "2.7182818284590455\n"
     ]
    }
   ],
   "source": [
    "import math\n",
    "\n",
    "def calculate_euler():\n",
    "    e = 1\n",
    "    factorial = 1\n",
    "    n = 1\n",
    "    while True:\n",
    "        factorial *= n\n",
    "        term = 1/factorial\n",
    "        e += term\n",
    "        n += 1\n",
    "        if math.isclose(term, 0, rel_tol=1e-16):\n",
    "            break\n",
    "    return e\n",
    "\n",
    "euler = calculate_euler()\n",
    "print(euler)"
   ]
  },
  {
   "cell_type": "code",
   "execution_count": 11,
   "id": "6fbf693d",
   "metadata": {},
   "outputs": [
    {
     "name": "stdout",
     "output_type": "stream",
     "text": [
      "2.7182817983473577\n"
     ]
    }
   ],
   "source": [
    "def euler():\n",
    "    n = 100000000\n",
    "    euler = (1 + 1/n) ** n\n",
    "    return euler\n",
    "\n",
    "print(euler())"
   ]
  },
  {
   "cell_type": "code",
   "execution_count": 21,
   "id": "9bef6857",
   "metadata": {},
   "outputs": [
    {
     "data": {
      "text/plain": [
       "array([      4,    -630,   41230, 1256850])"
      ]
     },
     "execution_count": 21,
     "metadata": {},
     "output_type": "execute_result"
    }
   ],
   "source": [
    "import numpy as np\n",
    "\n",
    "def derivada(coef):\n",
    "    # obter o grau da função\n",
    "    n = len(coef) - 1\n",
    "    \n",
    "    # criar um array vazio com o tamanho adequado para a derivada\n",
    "    deriv = np.zeros(n, dtype=coef.dtype)\n",
    "    \n",
    "    # calcular a derivada para cada termo da função\n",
    "    for i in range(n):\n",
    "        deriv[i] = (n-i) * coef[i]\n",
    "    \n",
    "    # retornar os coeficientes da derivada\n",
    "    return deriv\n",
    "\n",
    "P = np.array([1, -210, 20615, 1256850, 53327946])\n",
    "derivada(P)"
   ]
  },
  {
   "cell_type": "code",
   "execution_count": null,
   "id": "1dbaacc6",
   "metadata": {},
   "outputs": [],
   "source": []
  }
 ],
 "metadata": {
  "kernelspec": {
   "display_name": "Python 3 (ipykernel)",
   "language": "python",
   "name": "python3"
  },
  "language_info": {
   "codemirror_mode": {
    "name": "ipython",
    "version": 3
   },
   "file_extension": ".py",
   "mimetype": "text/x-python",
   "name": "python",
   "nbconvert_exporter": "python",
   "pygments_lexer": "ipython3",
   "version": "3.10.7"
  }
 },
 "nbformat": 4,
 "nbformat_minor": 5
}
