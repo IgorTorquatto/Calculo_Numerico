{
 "cells": [
  {
   "cell_type": "code",
   "execution_count": 5,
   "id": "c9199680",
   "metadata": {},
   "outputs": [
    {
     "ename": "NameError",
     "evalue": "name 'fabs' is not defined",
     "output_type": "error",
     "traceback": [
      "\u001b[0;31m---------------------------------------------------------------------------\u001b[0m",
      "\u001b[0;31mNameError\u001b[0m                                 Traceback (most recent call last)",
      "Input \u001b[0;32mIn [5]\u001b[0m, in \u001b[0;36m<module>\u001b[0;34m\u001b[0m\n\u001b[1;32m     13\u001b[0m              \u001b[38;5;28;01mbreak\u001b[39;00m\n\u001b[1;32m     14\u001b[0m         i\u001b[38;5;241m=\u001b[39mi\u001b[38;5;241m+\u001b[39m\u001b[38;5;241m1\u001b[39m\n\u001b[0;32m---> 17\u001b[0m \u001b[43meuler\u001b[49m\u001b[43m(\u001b[49m\u001b[43m)\u001b[49m\n",
      "Input \u001b[0;32mIn [5]\u001b[0m, in \u001b[0;36meuler\u001b[0;34m()\u001b[0m\n\u001b[1;32m      8\u001b[0m tprev \u001b[38;5;241m=\u001b[39m t\n\u001b[1;32m     10\u001b[0m t \u001b[38;5;241m=\u001b[39m \u001b[38;5;28mpow\u001b[39m(\u001b[38;5;241m1.0\u001b[39m \u001b[38;5;241m+\u001b[39m (\u001b[38;5;241m1.0\u001b[39m \u001b[38;5;241m/\u001b[39m i), i);\n\u001b[0;32m---> 12\u001b[0m \u001b[38;5;28;01mif\u001b[39;00m (\u001b[43mfabs\u001b[49m(tprev \u001b[38;5;241m-\u001b[39m t) \u001b[38;5;241m<\u001b[39m eps):\n\u001b[1;32m     13\u001b[0m      \u001b[38;5;28;01mbreak\u001b[39;00m\n\u001b[1;32m     14\u001b[0m i\u001b[38;5;241m=\u001b[39mi\u001b[38;5;241m+\u001b[39m\u001b[38;5;241m1\u001b[39m\n",
      "\u001b[0;31mNameError\u001b[0m: name 'fabs' is not defined"
     ]
    }
   ],
   "source": [
    "def euler():\n",
    "    eps = 0.001\n",
    "    t = 2.0\n",
    "    i = 2\n",
    "    \n",
    "    \n",
    "    while True:\n",
    "        tprev = t\n",
    "        \n",
    "        t = pow(1.0 + (1.0 / i), i);\n",
    "        \n",
    "        if (fabs(tprev - t) < eps):\n",
    "             break\n",
    "        i=i+1\n",
    "    \n",
    "\n",
    "euler()"
   ]
  },
  {
   "cell_type": "code",
   "execution_count": 6,
   "id": "ef938084",
   "metadata": {},
   "outputs": [
    {
     "name": "stdout",
     "output_type": "stream",
     "text": [
      "[ 4.00000e+00 -6.30000e+02  4.12300e+04  1.25685e+06]\n"
     ]
    }
   ],
   "source": [
    "import numpy as np\n",
    "\n",
    "def derivada(coef):\n",
    "    n = len(coef)\n",
    "    der = np.zeros(n-1)\n",
    "    for i in range(n-1):\n",
    "        der[i] = coef[i] * (n-i-1)\n",
    "    return der\n",
    "\n",
    "P = np.array([1, -210, 20615, 1256850, 53327946])\n",
    "print(derivada(P))\n",
    "\n"
   ]
  },
  {
   "cell_type": "code",
   "execution_count": 9,
   "id": "cd14f0bf",
   "metadata": {},
   "outputs": [
    {
     "data": {
      "text/plain": [
       "(24, 24)"
      ]
     },
     "execution_count": 9,
     "metadata": {},
     "output_type": "execute_result"
    }
   ],
   "source": [
    "import numpy as np\n",
    "\n",
    "x= np.array([1,2,3,4])\n",
    "y= np.array([1,2,3,4])\n",
    "\n",
    "xx = np.concatenate((x,[x[0]]))\n",
    "xy = np.concatenate((y,[y[0]]))\n",
    "\n",
    "S1= np.dot(xx[0:-1],xy[1:])\n",
    "S2= np.dot(xx[1:],xy[0:-1])\n",
    "\n",
    "S1,S2"
   ]
  },
  {
   "cell_type": "code",
   "execution_count": null,
   "id": "8bc189fe",
   "metadata": {},
   "outputs": [],
   "source": []
  }
 ],
 "metadata": {
  "kernelspec": {
   "display_name": "Python 3 (ipykernel)",
   "language": "python",
   "name": "python3"
  },
  "language_info": {
   "codemirror_mode": {
    "name": "ipython",
    "version": 3
   },
   "file_extension": ".py",
   "mimetype": "text/x-python",
   "name": "python",
   "nbconvert_exporter": "python",
   "pygments_lexer": "ipython3",
   "version": "3.9.2"
  }
 },
 "nbformat": 4,
 "nbformat_minor": 5
}
